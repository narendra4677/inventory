{
 "cells": [
  {
   "cell_type": "code",
   "execution_count": 1,
   "id": "cf6e9f4b",
   "metadata": {},
   "outputs": [],
   "source": [
    "import json"
   ]
  },
  {
   "cell_type": "code",
   "execution_count": 2,
   "id": "7f6e9895",
   "metadata": {},
   "outputs": [],
   "source": [
    "fr  = open(\"inventory.json\",\"r\")\n",
    "records = fr.read()\n",
    "fr.close()\n",
    "items = json.loads(records)"
   ]
  },
  {
   "cell_type": "code",
   "execution_count": 3,
   "id": "b9da331c",
   "metadata": {},
   "outputs": [],
   "source": [
    "fw = open(\"sales.json\",\"r\")\n",
    "r = fw.read()\n",
    "if(len(r)==0):\n",
    "    tid=1\n",
    "else:\n",
    "    file = json.loads(r)\n",
    "    l = len(file)\n",
    "    tid=l+1\n",
    "fw.close()\n",
    "trans = {}"
   ]
  },
  {
   "cell_type": "code",
   "execution_count": 4,
   "id": "6eb50bed",
   "metadata": {
    "scrolled": true
   },
   "outputs": [
    {
     "name": "stdout",
     "output_type": "stream",
     "text": [
      "Please Enter Customer Name : demo\n",
      "Please Enter Phone Number :8974561230\n"
     ]
    }
   ],
   "source": [
    "c_name = input(\"Please Enter Customer Name : \")\n",
    "phno = int(input(\"Please Enter Phone Number :\"))\n",
    "say=True\n",
    "liItem = {\"customer_name\" : c_name,\"phone_number\": phno}\n",
    "total_amt = 0\n",
    "dis_amt = 0\n",
    "actual_amt = 0"
   ]
  },
  {
   "cell_type": "code",
   "execution_count": 5,
   "id": "1a8c4c81",
   "metadata": {},
   "outputs": [
    {
     "name": "stdout",
     "output_type": "stream",
     "text": [
      "Enter Item id: 5\n",
      "How many quantities do you want ? :2\n",
      "Do you want anything to buy ? y/n:n\n"
     ]
    }
   ],
   "source": [
    "while(say):\n",
    "    itemid = input(\"Enter Item id: \")\n",
    "    if itemid in items and items[itemid][\"quantity\"]>0:\n",
    "        q = int(input(\"How many quantities do you want ? :\"))\n",
    "        if(q>items[itemid][\"quantity\"]):\n",
    "            print(\"Sorry we have only \",items[itemid][\"quantity\"],\"items\")\n",
    "        else:\n",
    "            items[itemid][\"quantity\"]-=q\n",
    "            li = {}\n",
    "            li[\"id\"] = itemid\n",
    "            li[\"name\"] = items[itemid][\"name\"]\n",
    "            li[\"quantity\"] = q\n",
    "            li[\"Actual_Amount\"] = q*items[itemid][\"price\"] \n",
    "            total_amt += q*items[itemid][\"price\"]\n",
    "            li[\"Discount\"] = q*items[itemid][\"price\"]-q*items[itemid][\"Final_Price\"]\n",
    "            dis_amt += q*items[itemid][\"price\"]-q*items[itemid][\"Final_Price\"]\n",
    "            li[\"Final_Amount\"] = q*items[itemid][\"Final_Price\"]\n",
    "            actual_amt += q*items[itemid][\"Final_Price\"]\n",
    "            if(len(liItem)==2):\n",
    "                liItem[1] = li\n",
    "            else:\n",
    "                liItem[len(liItem)-1] = li\n",
    "    else:\n",
    "        print(\"Sorry item is not available\")\n",
    "    ask = input(\"Do you want anything to buy ? y/n:\")\n",
    "    if(ask==\"n\"):\n",
    "        say = False"
   ]
  },
  {
   "cell_type": "code",
   "execution_count": 6,
   "id": "fe370df0",
   "metadata": {},
   "outputs": [],
   "source": [
    "liItem[\"total_amount\"] = total_amt\n",
    "liItem[\"discount_amount\"] = dis_amt\n",
    "liItem[\"Actual_amount\"] = actual_amt\n",
    "trans[tid] = liItem"
   ]
  },
  {
   "cell_type": "code",
   "execution_count": 7,
   "id": "e9ac0108",
   "metadata": {},
   "outputs": [],
   "source": [
    "fr  = open(\"inventory.json\",\"w\")\n",
    "j = json.dumps(items)\n",
    "fr.write(j)\n",
    "fr.close()"
   ]
  },
  {
   "cell_type": "code",
   "execution_count": 8,
   "id": "630e7578",
   "metadata": {},
   "outputs": [],
   "source": [
    "sale_records = json.dumps(trans)\n",
    "fw = open(\"sales.json\",\"w\")\n",
    "if(len(r)==0):\n",
    "    fw.write(sale_records)\n",
    "else:\n",
    "    r=r[:-1]\n",
    "    fw.write(r+\",\\n\"+sale_records[1:])\n",
    "fw.close()"
   ]
  },
  {
   "cell_type": "code",
   "execution_count": null,
   "id": "1071cdeb",
   "metadata": {},
   "outputs": [],
   "source": []
  }
 ],
 "metadata": {
  "kernelspec": {
   "display_name": "Python 3",
   "language": "python",
   "name": "python3"
  },
  "language_info": {
   "codemirror_mode": {
    "name": "ipython",
    "version": 3
   },
   "file_extension": ".py",
   "mimetype": "text/x-python",
   "name": "python",
   "nbconvert_exporter": "python",
   "pygments_lexer": "ipython3",
   "version": "3.8.8"
  }
 },
 "nbformat": 4,
 "nbformat_minor": 5
}
